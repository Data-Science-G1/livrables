{
 "cells": [
  {
   "cell_type": "code",
   "execution_count": 10,
   "metadata": {},
   "outputs": [],
   "source": [
    "import os\n",
    "from PIL import Image as Image"
   ]
  },
  {
   "cell_type": "code",
   "execution_count": 12,
   "metadata": {},
   "outputs": [
    {
     "name": "stdout",
     "output_type": "stream",
     "text": [
      "../data\\Schematics\n",
      "../data\\Sketch\n",
      "../data\\Text\n"
     ]
    }
   ],
   "source": [
    "directory_to_extract_to=\"../data\"\n",
    "\n",
    "for directory in os.listdir(directory_to_extract_to):\n",
    "    if directory==\"Painting\" or directory==\"Photo\":\n",
    "        continue\n",
    "    print(directory_to_extract_to + \"\\\\\" + directory)\n",
    "    for file in os.listdir(directory_to_extract_to + \"\\\\\" + directory):\n",
    "        image = None\n",
    "        if file.split(\".\")[1]==\"ini\":\n",
    "            os.remove(directory_to_extract_to + \"\\\\\" + directory + \"\\\\\" + file)\n",
    "            continue\n",
    "        try:\n",
    "            image = Image.open(directory_to_extract_to + \"\\\\\" + directory + \"\\\\\" + file)\n",
    "            data = list(image.getdata())\n",
    "            image_without_exif = Image.new(image.mode, image.size)\n",
    "            image_without_exif.putdata(data)\n",
    "            image_without_exif.save(directory_to_extract_to + \"\\\\\" + directory + \"\\\\\" + file)\n",
    "        except:\n",
    "            print(directory_to_extract_to + \"\\\\\" + directory + \"\\\\\" + file)\n",
    "            image.close()\n",
    "            os.remove(directory_to_extract_to + \"\\\\\" + directory + \"\\\\\" + file)\n",
    "            pass"
   ]
  }
 ],
 "metadata": {
  "kernelspec": {
   "display_name": "Python 3",
   "language": "python",
   "name": "python3"
  },
  "language_info": {
   "codemirror_mode": {
    "name": "ipython",
    "version": 3
   },
   "file_extension": ".py",
   "mimetype": "text/x-python",
   "name": "python",
   "nbconvert_exporter": "python",
   "pygments_lexer": "ipython3",
   "version": "3.7.6"
  }
 },
 "nbformat": 4,
 "nbformat_minor": 4
}
